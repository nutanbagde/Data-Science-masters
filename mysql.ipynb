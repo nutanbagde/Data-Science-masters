{
 "cells": [
  {
   "cell_type": "markdown",
   "id": "2478e3dc-0901-4685-8f55-b8755bd87a79",
   "metadata": {},
   "source": [
    "\n",
    "|sql| no sql|\n",
    "|:-:|:-:|\n",
    "|structer query languge| not only structer query languge|\n",
    "|mySQL data base| MONGO DB |\n",
    "|mS SQL --'--|cassandra |\n",
    "|DBS --'--| Hbase|\n",
    "|ORACLE  --'--| neo4j|\n",
    "|always work with structer data [table format data] | always work with unstructer data [vedio, image etc]|\n",
    "\n"
   ]
  },
  {
   "cell_type": "markdown",
   "id": "4b31f72c-749c-4358-bd1f-d870d2b2b3e4",
   "metadata": {},
   "source": [
    "1. create a data base then in it create a table.\n",
    "\n",
    "1. create connection\n",
    "2. make file in it"
   ]
  },
  {
   "cell_type": "code",
   "execution_count": 12,
   "id": "25d420d4-bd2f-4806-8800-ac79e5a35ec2",
   "metadata": {},
   "outputs": [
    {
     "name": "stdout",
     "output_type": "stream",
     "text": [
      "<mysql.connector.connection_cext.CMySQLConnection object at 0x000001E40543B6D0>\n",
      "('information_schema',)\n",
      "('mysql',)\n",
      "('new_schema',)\n",
      "('performance_schema',)\n",
      "('sys',)\n",
      "('sys_1',)\n"
     ]
    }
   ],
   "source": [
    "import mysql.connector\n",
    "\n",
    "mydb = mysql.connector.connect(  \n",
    "   host=\"localhost\",\n",
    "   user=\"root\",\n",
    "   passwd=\"Gargi@5820\"\n",
    ")\n",
    "\n",
    "print(mydb)\n",
    "mycursor = mydb.cursor() \n",
    "mycursor.execute(\"SHOW DATABASES\") \n",
    "for x in mycursor:\n",
    "    print(x)\n"
   ]
  },
  {
   "cell_type": "code",
   "execution_count": null,
   "id": "b42ad7ba-4ae2-4a42-a12b-2151df7149ea",
   "metadata": {},
   "outputs": [],
   "source": []
  },
  {
   "cell_type": "code",
   "execution_count": null,
   "id": "8f1c2278-379d-45fe-aacb-79a7a6cb44a5",
   "metadata": {},
   "outputs": [],
   "source": []
  }
 ],
 "metadata": {
  "kernelspec": {
   "display_name": "Python 3 (ipykernel)",
   "language": "python",
   "name": "python3"
  },
  "language_info": {
   "codemirror_mode": {
    "name": "ipython",
    "version": 3
   },
   "file_extension": ".py",
   "mimetype": "text/x-python",
   "name": "python",
   "nbconvert_exporter": "python",
   "pygments_lexer": "ipython3",
   "version": "3.11.1"
  }
 },
 "nbformat": 4,
 "nbformat_minor": 5
}
