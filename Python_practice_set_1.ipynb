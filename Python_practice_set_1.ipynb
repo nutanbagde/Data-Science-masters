{
 "cells": [
  {
   "cell_type": "markdown",
   "id": "bd896cf7-9458-4f0e-8131-1bc28dae2223",
   "metadata": {},
   "source": [
    "Q1. Write a Python program that defines a function called \"add_numbers\" that takes two arguments (i.e., numbers) and returns their sum. Within the function, add the two numbers together and return the result using the return statement. Call the function with the values 5 and 6, and print out the returned result. This will result in the addition of 5 and 6, with the output of the program being the sum of these two numbers."
   ]
  },
  {
   "cell_type": "code",
   "execution_count": 3,
   "id": "e4b7eca6-e4ae-4700-8122-c6eb0174baec",
   "metadata": {
    "tags": []
   },
   "outputs": [
    {
     "name": "stdout",
     "output_type": "stream",
     "text": [
      "Sum of 5 and 6  =  11\n"
     ]
    }
   ],
   "source": [
    "def add_numbers(arg1,arg2):\n",
    "    return arg1+arg2\n",
    "\n",
    "print('Sum of 5 and 6  = ',add_numbers(5,6))"
   ]
  },
  {
   "cell_type": "markdown",
   "id": "1d9fa915-3683-40c8-b991-4277133f579a",
   "metadata": {},
   "source": [
    "Q2. Write a Python program that calculates the square root of a given number using a built-in function.\n",
    "Specifically, the program should take an integer or float input from the user, calculate its square root\n",
    "using the 'sqrt()' function from the 'math' module, and print out the result to the user. As an example,\n",
    "calculate the square root of the number 625 using this program, which should output the value of 25.\n"
   ]
  },
  {
   "cell_type": "code",
   "execution_count": 31,
   "id": "fd2494a4-cc36-4c56-8e92-52c8874d725f",
   "metadata": {
    "tags": []
   },
   "outputs": [
    {
     "name": "stdin",
     "output_type": "stream",
     "text": [
      "enter no =  625\n"
     ]
    },
    {
     "name": "stdout",
     "output_type": "stream",
     "text": [
      "square root of a given number=  25.0\n"
     ]
    }
   ],
   "source": [
    "# program with function\n",
    "\n",
    "import math\n",
    "def square_root(number):\n",
    "    return (math.sqrt(number))\n",
    "        \n",
    "input_nuber=float(input('enter no = '))\n",
    "print('square root of a given number= ',square_root(input_nuber))\n",
    "        \n",
    "      "
   ]
  },
  {
   "cell_type": "code",
   "execution_count": 32,
   "id": "b00a7221-f8c8-4300-b6d4-c2abd8a4ad1f",
   "metadata": {
    "tags": []
   },
   "outputs": [
    {
     "name": "stdin",
     "output_type": "stream",
     "text": [
      "enter no = 625\n"
     ]
    },
    {
     "name": "stdout",
     "output_type": "stream",
     "text": [
      "square root of a given number=  25.0\n"
     ]
    }
   ],
   "source": [
    "# program without function\n",
    "\n",
    "input_number=float(input('enter no ='))\n",
    "print('square root of a given number= ' ,   math.sqrt(input_number)) \n",
    "\n"
   ]
  },
  {
   "cell_type": "code",
   "execution_count": null,
   "id": "798680aa-ce6d-4116-be46-c6d202e1fc56",
   "metadata": {},
   "outputs": [],
   "source": []
  },
  {
   "cell_type": "markdown",
   "id": "830ddbd1-a521-4c54-a20c-165d37b9f791",
   "metadata": {},
   "source": [
    "Q3.Write a program that prints all prime numbers between 0 to 50."
   ]
  },
  {
   "cell_type": "code",
   "execution_count": 47,
   "id": "baa4afb0-533b-4a93-bd04-06d9b76574f3",
   "metadata": {
    "tags": []
   },
   "outputs": [
    {
     "name": "stdout",
     "output_type": "stream",
     "text": [
      "all prime numbers between 0 to 50 \n",
      "=  [2, 3, 5, 7, 11, 13, 17, 19, 23, 29, 31, 37, 41, 43, 47]\n"
     ]
    }
   ],
   "source": [
    "list1=[]\n",
    "for i in range(1,50+1):\n",
    "    c=0\n",
    "    for j in range(1,i+1):\n",
    "        if i%j==0:\n",
    "           c+=1\n",
    "    if c==2:\n",
    "        list1.append(i)\n",
    "\n",
    "print('all prime numbers between 0 to 50 ')\n",
    "print('= ',list1)  "
   ]
  },
  {
   "cell_type": "code",
   "execution_count": null,
   "id": "2a097090-41cf-4d08-809c-1123b7abdb6d",
   "metadata": {},
   "outputs": [],
   "source": []
  },
  {
   "cell_type": "markdown",
   "id": "8eca5d13-12d0-41a0-8350-066cf5a7ca5c",
   "metadata": {},
   "source": [
    "Q4.How can we swap the values of three variables (let's say a, b, and c) without using a fourth variable?\n",
    "For example, if we have a=5, b=8, and c=9, how can we obtain a=9, b=5, and c=8? The challenge is to\n",
    "perform this operation without using an additional variable to store any of the values during the\n",
    "swapping process."
   ]
  },
  {
   "cell_type": "markdown",
   "id": "5aa80f30-9b78-4d33-9106-9775bc184d7b",
   "metadata": {},
   "source": [
    "|a|b|c|\n",
    "|:-:|:-:|:-:|\n",
    "|5|8|9|\n",
    "|9|5|8"
   ]
  },
  {
   "cell_type": "code",
   "execution_count": 64,
   "id": "d7550434-26ed-4095-aff5-a4d3102563ac",
   "metadata": {
    "tags": []
   },
   "outputs": [
    {
     "name": "stdout",
     "output_type": "stream",
     "text": [
      "a b c\n",
      "5 8 9\n",
      "(9, 5, 8)\n"
     ]
    }
   ],
   "source": [
    "def swap(a,b,c):\n",
    "    a=a+b+c\n",
    "    b=a-(b+c)\n",
    "    c=a-(b+c)\n",
    "    a=a-(b+c)\n",
    "    return a,b,c\n",
    "\n",
    "print('a b c\\n5 8 9')\n",
    "print(swap(5,8,9))"
   ]
  },
  {
   "cell_type": "markdown",
   "id": "8abf9e61-9885-4dd1-824b-8059e08305b5",
   "metadata": {},
   "source": [
    "Q5. Can you write a program that determines the nature of a given number (in this case, 87) as being\n",
    "positive, negative, or zero? The program should be designed to take the number as input and perform the\n",
    "necessary calculations to determine if the number is positive (i.e., greater than zero), negative (i.e., less\n",
    "than zero), or zero (i.e., equal to zero). The output of the program should indicate which of these three\n",
    "categories the given number falls into.\n"
   ]
  },
  {
   "cell_type": "code",
   "execution_count": 74,
   "id": "94715721-1fbb-4a22-9c6e-d1de5431e4ed",
   "metadata": {
    "tags": []
   },
   "outputs": [
    {
     "name": "stdin",
     "output_type": "stream",
     "text": [
      "enter the no =  -20\n"
     ]
    },
    {
     "name": "stdout",
     "output_type": "stream",
     "text": [
      "-20.0 is negative number \n"
     ]
    }
   ],
   "source": [
    "def nature_of_given_number(input_num):\n",
    "    if input_num>0:\n",
    "        return f'{input_num} is positive number '\n",
    "    elif input_num<0:\n",
    "        return f'{input_num} is negative number '\n",
    "    elif input_num==0:\n",
    "        return f'{input_num} the number is zero '\n",
    "\n",
    "\n",
    "given_number=float(input(\"enter the no = \"))    \n",
    "print(nature_of_given_number(given_number))"
   ]
  },
  {
   "cell_type": "markdown",
   "id": "5a6a8aaf-9e61-430a-95af-19b405d8cc48",
   "metadata": {},
   "source": [
    "Q6. How can you create a program that determines whether a given number (in this case, 98) is even or\n",
    "odd? The program should be designed to take the number as input and perform the necessary\n",
    "calculations to determine whether it is divisible by two. If the number is divisible by two without leaving a\n",
    "remainder, it is an even number, and if there is a remainder, it is an odd number. The output of the\n",
    "program should indicate whether the given number is even or odd."
   ]
  },
  {
   "cell_type": "code",
   "execution_count": 76,
   "id": "acd506d7-105e-47bf-a75c-9d63cd7eeb65",
   "metadata": {
    "tags": []
   },
   "outputs": [
    {
     "name": "stdin",
     "output_type": "stream",
     "text": [
      "Plese enter intager =  66\n"
     ]
    },
    {
     "name": "stdout",
     "output_type": "stream",
     "text": [
      "The no. 66 is even number\n"
     ]
    }
   ],
   "source": [
    "def Even_or_Odd(number):\n",
    "    if number%2==0:\n",
    "        return f'The no. {number} is even number'\n",
    "    else:\n",
    "        return  f'The no. {number} is odd number'\n",
    "    \n",
    "given_input=int(input('Plese enter intager = '))\n",
    "print(Even_or_Odd(given_input))"
   ]
  },
  {
   "cell_type": "markdown",
   "id": "7e13f224-78ee-49a9-aa0f-eb1653dbb9aa",
   "metadata": {},
   "source": [
    "Q7.Write a program for sum of digits.the digits are 76543 and the output should be 25.\n"
   ]
  },
  {
   "cell_type": "code",
   "execution_count": 88,
   "id": "195ac44c-92cd-46d2-bbd0-9c1573cb1197",
   "metadata": {
    "tags": []
   },
   "outputs": [
    {
     "name": "stdout",
     "output_type": "stream",
     "text": [
      "sum of digits of number 76543 = 25\n"
     ]
    }
   ],
   "source": [
    "def sum_of_digit(digit):\n",
    "    All_digit_sum=0\n",
    "    list1=[i for i in str(digit)]\n",
    "    for i in list1:\n",
    "        All_digit_sum+=int(i)\n",
    "    return f'sum of digits of number 76543 = {All_digit_sum}'\n",
    "    \n",
    "print(sum_of_digit(76543))"
   ]
  },
  {
   "cell_type": "markdown",
   "id": "f6871436-cfc1-4c58-b046-9454ffb6891d",
   "metadata": {},
   "source": [
    "Q8.Write a program for reversing the given number 5436 and the output should be 6345.\n"
   ]
  },
  {
   "cell_type": "code",
   "execution_count": 89,
   "id": "486d3d16-bc98-4ad9-ba2b-ca8e26a50ed6",
   "metadata": {
    "tags": []
   },
   "outputs": [
    {
     "name": "stdout",
     "output_type": "stream",
     "text": [
      "given no =  5436\n",
      "('reversing the given number=', '6345')\n"
     ]
    }
   ],
   "source": [
    "def reversing_the_given_number(number):\n",
    "    print('given no = ', number)\n",
    "    s=''\n",
    "    return 'reversing the given number=',s.join([i for i in number][::-1])\n",
    "    \n",
    "given_number=5436\n",
    "print(reversing_the_given_number(str(given_number)))\n",
    "    "
   ]
  },
  {
   "cell_type": "markdown",
   "id": "510dd15d-557d-4d58-948e-e699b5e3b6b6",
   "metadata": {},
   "source": [
    "Q9.Write a program to check if a given number 371 is an Armstrong number?"
   ]
  },
  {
   "cell_type": "code",
   "execution_count": 100,
   "id": "0a7853dd-f154-4606-a3b7-3e6424182515",
   "metadata": {
    "tags": []
   },
   "outputs": [
    {
     "name": "stdout",
     "output_type": "stream",
     "text": [
      "given number 371 is an Armstrong number\n",
      "given number 123 is not an Armstrong number\n"
     ]
    }
   ],
   "source": [
    "def isArmstrong(num):\n",
    "    lenth_num=len(str(num))\n",
    "    list2=[i for i in str(num)]\n",
    "    sum2=0\n",
    "    for i in list2:\n",
    "        sum2+=(int(i)**lenth_num)\n",
    "        \n",
    "    if int(num)==int(sum2):\n",
    "        return f'given number {num} is an Armstrong number'\n",
    "    else:\n",
    "        return f'given number {num} is not an Armstrong number'\n",
    "        \n",
    "print(isArmstrong(371))    \n",
    "print(isArmstrong(123))       "
   ]
  },
  {
   "cell_type": "markdown",
   "id": "1d94e021-5d24-48db-b002-21fd992d55bb",
   "metadata": {},
   "source": [
    "Q10.Write a program the given year is 1996, a leap year"
   ]
  },
  {
   "cell_type": "code",
   "execution_count": 103,
   "id": "c9332407-6d5c-49d9-bf9b-a0d1ad696367",
   "metadata": {
    "tags": []
   },
   "outputs": [
    {
     "name": "stdout",
     "output_type": "stream",
     "text": [
      "1988 is a leap year\n",
      "1996 is a leap year\n",
      "1999 is not a leap year\n"
     ]
    }
   ],
   "source": [
    "def leap_year(year):\n",
    "    if int(year)%4==0:\n",
    "        return f'{year} is a leap year'\n",
    "    else:\n",
    "        return f'{year} is not a leap year'\n",
    "        \n",
    "print(leap_year(1988))    \n",
    "print(leap_year(1996))\n",
    "print(leap_year(1999))"
   ]
  },
  {
   "cell_type": "code",
   "execution_count": null,
   "id": "1b5c6064-4559-426f-b660-c32453b2678f",
   "metadata": {},
   "outputs": [],
   "source": []
  }
 ],
 "metadata": {
  "kernelspec": {
   "display_name": "Python 3 (ipykernel)",
   "language": "python",
   "name": "python3"
  },
  "language_info": {
   "codemirror_mode": {
    "name": "ipython",
    "version": 3
   },
   "file_extension": ".py",
   "mimetype": "text/x-python",
   "name": "python",
   "nbconvert_exporter": "python",
   "pygments_lexer": "ipython3",
   "version": "3.11.1"
  }
 },
 "nbformat": 4,
 "nbformat_minor": 5
}
