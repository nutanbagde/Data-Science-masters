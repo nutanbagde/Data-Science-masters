{
 "cells": [
  {
   "cell_type": "code",
   "execution_count": null,
   "id": "cfab3469-3474-4f28-a748-09ac9ac8a2b5",
   "metadata": {},
   "outputs": [],
   "source": [
    "# here we added the entry of table"
   ]
  },
  {
   "cell_type": "code",
   "execution_count": 8,
   "id": "ebbb29e8-01bb-4816-b4f4-30f22d1f85ca",
   "metadata": {
    "tags": []
   },
   "outputs": [
    {
     "name": "stdout",
     "output_type": "stream",
     "text": [
      "<mysql.connector.connection_cext.CMySQLConnection object at 0x0000026245D57290>\n",
      "('information_schema',)\n",
      "('my_table',)\n",
      "('mysql',)\n",
      "('new_schema',)\n",
      "('performance_schema',)\n",
      "('sys',)\n",
      "('sys_1',)\n"
     ]
    }
   ],
   "source": [
    "import mysql.connector\n",
    "mydb=mysql.connector.connect(host='localhost', user='root', passwd =\"Gargi@5820\" )\n",
    "print(mydb)\n",
    "mycursor=mydb.cursor()\n",
    "mycursor.execute(\"SHOW DATABASES\")\n",
    "for i in mycursor:\n",
    "    print(i)\n",
    "mycursor.execute(\"insert into my_table.new_table values('nutan', 30, 'banglore')\")   \n",
    "mycursor.execute(\"insert into my_table.new_table values('Roshan', 35, 'banglore')\")\n",
    "mycursor.execute(\"insert into my_table.new_table values('gargie', 3, 'banglore')\")\n",
    "\n",
    "mydb.commit()\n",
    "mydb.close()"
   ]
  },
  {
   "cell_type": "code",
   "execution_count": null,
   "id": "4a36ec80-59a2-4c15-8f13-d8dfbd670cd8",
   "metadata": {},
   "outputs": [],
   "source": []
  }
 ],
 "metadata": {
  "kernelspec": {
   "display_name": "Python 3 (ipykernel)",
   "language": "python",
   "name": "python3"
  },
  "language_info": {
   "codemirror_mode": {
    "name": "ipython",
    "version": 3
   },
   "file_extension": ".py",
   "mimetype": "text/x-python",
   "name": "python",
   "nbconvert_exporter": "python",
   "pygments_lexer": "ipython3",
   "version": "3.11.1"
  }
 },
 "nbformat": 4,
 "nbformat_minor": 5
}
