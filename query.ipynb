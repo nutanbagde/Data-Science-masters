{
 "cells": [
  {
   "cell_type": "markdown",
   "id": "d897ad44-1f92-4d43-948c-24175e1572f9",
   "metadata": {},
   "source": [
    "chek the total row by row entry result"
   ]
  },
  {
   "cell_type": "code",
   "execution_count": 4,
   "id": "8d5b73cc-3faa-4dee-94c3-790c7a0f587e",
   "metadata": {
    "tags": []
   },
   "outputs": [
    {
     "name": "stdout",
     "output_type": "stream",
     "text": [
      "<mysql.connector.connection_cext.CMySQLConnection object at 0x000002468C6E6510>\n",
      "('nutan', '30', 'banglore', None)\n",
      "('Roshan', '35', 'banglore', None)\n",
      "('nutan', '30', 'banglore', None)\n",
      "('Roshan', '35', 'banglore', None)\n",
      "('gargie', '3', 'banglore', None)\n"
     ]
    }
   ],
   "source": [
    "import mysql.connector\n",
    "mydb=mysql.connector.connect(host='localhost', user='root', passwd =\"Gargi@5820\" )\n",
    "print(mydb)\n",
    "mycursor=mydb.cursor()\n",
    "mycursor.execute(\"SELECT * FROM my_table.new_table\")\n",
    "for i in mycursor.fetchall():\n",
    "    print(i)"
   ]
  },
  {
   "cell_type": "code",
   "execution_count": null,
   "id": "39a85656-4248-46b6-8c2b-1e4b8f582690",
   "metadata": {},
   "outputs": [],
   "source": []
  },
  {
   "cell_type": "markdown",
   "id": "01785f37-cdac-4859-9742-06c2a30dad8c",
   "metadata": {},
   "source": [
    "# to get only one column "
   ]
  },
  {
   "cell_type": "code",
   "execution_count": 5,
   "id": "17bd3e82-2ddf-4fc5-bb57-b9b14f9e118f",
   "metadata": {
    "tags": []
   },
   "outputs": [
    {
     "name": "stdout",
     "output_type": "stream",
     "text": [
      "('30',)\n",
      "('35',)\n",
      "('30',)\n",
      "('35',)\n",
      "('3',)\n"
     ]
    }
   ],
   "source": [
    "\n",
    "mycursor.execute(\"SELECT age FROM my_table.new_table\")\n",
    "for i in mycursor.fetchall():\n",
    "    print(i)"
   ]
  },
  {
   "cell_type": "code",
   "execution_count": 6,
   "id": "bdd8393a-a13f-467c-a5dc-98b6c7d66710",
   "metadata": {
    "tags": []
   },
   "outputs": [
    {
     "name": "stdout",
     "output_type": "stream",
     "text": [
      "('nutan',)\n",
      "('Roshan',)\n",
      "('nutan',)\n",
      "('Roshan',)\n",
      "('gargie',)\n"
     ]
    }
   ],
   "source": [
    "mycursor.execute(\"SELECT name FROM my_table.new_table\")\n",
    "for i in mycursor.fetchall():\n",
    "    print(i)"
   ]
  },
  {
   "cell_type": "code",
   "execution_count": null,
   "id": "6b46178b-9470-4800-a7de-372c70a0ed2f",
   "metadata": {},
   "outputs": [],
   "source": []
  }
 ],
 "metadata": {
  "kernelspec": {
   "display_name": "Python 3 (ipykernel)",
   "language": "python",
   "name": "python3"
  },
  "language_info": {
   "codemirror_mode": {
    "name": "ipython",
    "version": 3
   },
   "file_extension": ".py",
   "mimetype": "text/x-python",
   "name": "python",
   "nbconvert_exporter": "python",
   "pygments_lexer": "ipython3",
   "version": "3.11.1"
  }
 },
 "nbformat": 4,
 "nbformat_minor": 5
}
