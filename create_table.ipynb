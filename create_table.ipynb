{
 "cells": [
  {
   "cell_type": "markdown",
   "id": "a1e48565-3a49-4645-9d4e-54373e35ec85",
   "metadata": {},
   "source": [
    "here we added the new tabletable using folloeing command\n",
    "1. mycursor.execute(\"CREATE TABLE my_table.new_table1 (name VARCHAR(40) NOT NULL, age VARCHAR(45) NOT NULL,city VARCHAR(45) NOT NULL) \")"
   ]
  },
  {
   "cell_type": "code",
   "execution_count": 6,
   "id": "ccf67910-a1c2-4e8c-87c0-0113fe455563",
   "metadata": {
    "tags": []
   },
   "outputs": [],
   "source": [
    "import mysql.connector\n",
    "\n",
    "mydb = mysql.connector.connect(  \n",
    "   host=\"localhost\",\n",
    "   user=\"root\",\n",
    "   passwd=\"Gargi@5820\"\n",
    ")\n",
    "\n",
    "mycursor = mydb.cursor() \n",
    "mycursor.execute(\"CREATE DATABASE if not exists my_table\")\n",
    "mycursor.execute(\"CREATE TABLE my_table.new_table1 (name VARCHAR(40) NOT NULL, age VARCHAR(45) NOT NULL,city VARCHAR(45) NOT NULL) \")\n",
    "\n"
   ]
  },
  {
   "cell_type": "code",
   "execution_count": null,
   "id": "35ee3cfa-09ff-4845-a04f-f8fc1fd374ee",
   "metadata": {},
   "outputs": [],
   "source": []
  }
 ],
 "metadata": {
  "kernelspec": {
   "display_name": "Python 3 (ipykernel)",
   "language": "python",
   "name": "python3"
  },
  "language_info": {
   "codemirror_mode": {
    "name": "ipython",
    "version": 3
   },
   "file_extension": ".py",
   "mimetype": "text/x-python",
   "name": "python",
   "nbconvert_exporter": "python",
   "pygments_lexer": "ipython3",
   "version": "3.11.1"
  }
 },
 "nbformat": 4,
 "nbformat_minor": 5
}
