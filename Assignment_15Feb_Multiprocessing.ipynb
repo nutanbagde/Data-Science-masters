{
 "cells": [
  {
   "cell_type": "markdown",
   "id": "1b375e30-24a6-4856-ad1f-bacc93807201",
   "metadata": {},
   "source": [
    "Q1. What is multiprocessing in python? Why is it useful?"
   ]
  },
  {
   "cell_type": "markdown",
   "id": "8f9b5c35-f618-4f25-8423-7cefbf84866d",
   "metadata": {},
   "source": [
    "Multiprocessing refers to the ability of a system to support more than one processor at the same time. Applications in a multiprocessing system are broken to smaller routines that run independently. The operating system allocates these threads to the processors improving performance of the system."
   ]
  },
  {
   "cell_type": "markdown",
   "id": "8df733db-3086-4d76-a4e3-252b34bd97aa",
   "metadata": {},
   "source": [
    "Q2. What are the differences between multiprocessing and multithreading?"
   ]
  },
  {
   "cell_type": "markdown",
   "id": "2948252e-e529-458c-83e1-19fa22eff784",
   "metadata": {},
   "source": [
    "|S.NO|\tMultiprocessing|\tMultithreading|\n",
    "|:-:|:-:|:-:|\n",
    "|1.|\tIn Multiprocessing, CPUs are added for increasing computing power.|\tWhile In Multithreading, many threads are created of a single process for increasing computing power.|\n",
    "|2.\t|In Multiprocessing, Many processes are executed simultaneously.|\tWhile in multithreading, many threads of a process are executed simultaneously.|\n",
    "|3.\t|Multiprocessing are classified into Symmetric and Asymmetric.|\tWhile Multithreading is not classified in any categories.|\n",
    "|4.\t|In Multiprocessing, Process creation is a time-consuming process.|\tWhile in Multithreading, process creation is according to economical.|\n",
    "|5.\t|In Multiprocessing, every process owned a separate address space.|\tWhile in Multithreading, a common address space is shared by all the threads.|"
   ]
  },
  {
   "cell_type": "markdown",
   "id": "78f8930e-7741-4616-8442-34fcef58aed8",
   "metadata": {},
   "source": [
    "Q3. Write a python code to create a process using the multiprocessing module."
   ]
  },
  {
   "cell_type": "code",
   "execution_count": 2,
   "id": "cad4738e-20af-402a-aef6-0c8d7dfe320d",
   "metadata": {},
   "outputs": [
    {
     "name": "stdout",
     "output_type": "stream",
     "text": [
      "cube = 1000\n",
      "done\n"
     ]
    }
   ],
   "source": [
    "import multiprocessing\n",
    "\n",
    "def cube(num):\n",
    "    print('cube = {}'.format(num**3))\n",
    "    \n",
    "if __name__ == '__main__':\n",
    "    #create a process using the multiprocessing module\n",
    "    p1=multiprocessing.Process(target=cube, args=(10,))\n",
    "    p1.start()\n",
    "    p1.join()\n",
    "    print('done')\n",
    "    "
   ]
  },
  {
   "cell_type": "markdown",
   "id": "89dea393-9203-47f2-bd9d-0a97cf5a28aa",
   "metadata": {},
   "source": [
    "Q4. What is a multiprocessing pool in python? Why is it used?"
   ]
  },
  {
   "cell_type": "markdown",
   "id": "87194695-9c9c-45e9-81c9-978f2cdb5f5d",
   "metadata": {},
   "source": [
    "The Pool class in multiprocessing can handle an enormous number of processes.\n",
    "\n",
    "Python multiprocessing Pool can be used for parallel execution of a function across multiple input values, distributing the input data across processes (data parallelism)."
   ]
  },
  {
   "cell_type": "markdown",
   "id": "cb7883c1-5d6a-4693-adf6-47465220a56d",
   "metadata": {},
   "source": [
    "Q5. How can we create a pool of worker processes in python using the multiprocessing module?"
   ]
  },
  {
   "cell_type": "markdown",
   "id": "8ef916c2-11e3-4df8-86c6-bd2bfece6d71",
   "metadata": {},
   "source": [
    "A process pool object which controls a pool of worker processes to which jobs can be submitted. It supports asynchronous results with timeouts and callbacks and has a parallel map implementation."
   ]
  },
  {
   "cell_type": "markdown",
   "id": "8c083ee4-0336-4a80-bc95-78e653326926",
   "metadata": {},
   "source": [
    "1. create a process pool\n",
    "\n",
    "pool = multiprocessing.Pool(...)\n",
    "\n",
    "The process pool can be configured by specifying arguments to the multiprocessing.Pool class constructor.\n",
    "\n",
    "The arguments to the constructor are as follows:\n",
    "\n",
    "1. processes: Maximum number of worker processes to use in the pool.\n",
    "2. initializer: Function executed after each worker process is created.\n",
    "3. initargs: Arguments to the worker process initialization function.\n",
    "4. maxtasksperchild: Limit the maximum number of tasks executed by each worker process.\n",
    "5. context: Configure the multiprocessing context such as the process start method.\n"
   ]
  },
  {
   "cell_type": "markdown",
   "id": "a52b8844-3634-4bce-8c88-161d68b754ce",
   "metadata": {},
   "source": [
    "Q6. Write a python program to create 4 processes, each process should print a different number using the multiprocessing module in python."
   ]
  },
  {
   "cell_type": "code",
   "execution_count": 9,
   "id": "7890fbc8-4385-4724-9cd2-3b19c7fe812f",
   "metadata": {},
   "outputs": [
    {
     "name": "stdout",
     "output_type": "stream",
     "text": [
      "10 number cub = 1000\n",
      "20 number cub = 8000\n",
      "30 number cub = 27000\n",
      "40 number cub = 64000\n",
      "done\n"
     ]
    }
   ],
   "source": [
    "import multiprocessing\n",
    "\n",
    "def cube(num):\n",
    "    print('number %d cub = {}'.format(num**3) %(num))\n",
    "    \n",
    "if __name__ == '__main__':\n",
    "    list_1=[]\n",
    "    for i in [10,20,30,40]:\n",
    "        p1=multiprocessing.Process(target=cube, args=(i,))\n",
    "        list_1.append(p1)\n",
    "        p1.start()\n",
    "    for i in list_1: \n",
    "        p1.join()\n",
    "    \n",
    "    print('done')"
   ]
  },
  {
   "cell_type": "code",
   "execution_count": null,
   "id": "868b6615-2122-4857-ba1c-30e1c00ed895",
   "metadata": {},
   "outputs": [],
   "source": []
  },
  {
   "cell_type": "code",
   "execution_count": 10,
   "id": "2c0f0b18-2898-4bfe-9734-c0372dee0f07",
   "metadata": {},
   "outputs": [
    {
     "name": "stdout",
     "output_type": "stream",
     "text": [
      "cube = 8\n",
      "cube = 27\n",
      "cube = 64\n",
      "cube = 125\n",
      "cube = 216\n",
      "done\n"
     ]
    }
   ],
   "source": []
  },
  {
   "cell_type": "code",
   "execution_count": null,
   "id": "49edff34-d618-44b5-ac37-71a274c61146",
   "metadata": {},
   "outputs": [],
   "source": []
  },
  {
   "cell_type": "code",
   "execution_count": null,
   "id": "78308953-8e58-4fc7-994b-785192de0a8a",
   "metadata": {},
   "outputs": [],
   "source": []
  }
 ],
 "metadata": {
  "kernelspec": {
   "display_name": "Python 3 (ipykernel)",
   "language": "python",
   "name": "python3"
  },
  "language_info": {
   "codemirror_mode": {
    "name": "ipython",
    "version": 3
   },
   "file_extension": ".py",
   "mimetype": "text/x-python",
   "name": "python",
   "nbconvert_exporter": "python",
   "pygments_lexer": "ipython3",
   "version": "3.10.8"
  }
 },
 "nbformat": 4,
 "nbformat_minor": 5
}
