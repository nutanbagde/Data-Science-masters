{
 "cells": [
  {
   "cell_type": "markdown",
   "id": "31a4884d-1390-448e-9b04-ce746434d6f0",
   "metadata": {
    "tags": []
   },
   "source": [
    "Q1. What is an API? Give an example, where an API is used in real life."
   ]
  },
  {
   "cell_type": "markdown",
   "id": "5a92bad0-5c24-4410-8269-96937f3e9012",
   "metadata": {},
   "source": [
    "API stands for Application Programming Interface.An API is a set of functions and procedures that software developers use to build applications.\n",
    "You can think of it like a library where you can take what you need and leave the rest behind."
   ]
  },
  {
   "cell_type": "markdown",
   "id": "9446bab3-1981-4555-8cc2-00761044618f",
   "metadata": {},
   "source": [
    "APIs are used in web applications to connect user-facing front ends with critical back-end functionality and data. APIs are used to deliver material by streaming services such as Spotify and Netflix. APIs are used by automakers such as Tesla to provide software upgrades."
   ]
  },
  {
   "cell_type": "markdown",
   "id": "66c62bf0-e0f1-40c5-a860-5897cb020144",
   "metadata": {},
   "source": [
    "Q2. Give advantages and disadvantages of using API. "
   ]
  },
  {
   "cell_type": "markdown",
   "id": "ca2f4ce4-b0c4-49af-8f8f-a893c492d9a5",
   "metadata": {},
   "source": [
    "Advantages:\n",
    "\n",
    "1. Increased Interoperability: API solutions enable different software systems to communicate with each other, regardless of their programming language or platform. This enhances the interoperability between systems, allowing for the exchange of data and functionality.\n",
    "2. Improved Efficiency: API driven infrastructures enable developers to reuse code and functionality from existing software systems, saving time and reducing the amount of code that needs to be written from scratch.\n",
    "3. Better User Experience: APIs can enable third-party developers to create applications that integrate with existing software systems, providing a better user experience and increased functionality.\n",
    "4. Increased Flexibility: APIs provide developers with greater flexibility, enabling them to choose the best programming languages and frameworks for their needs.\n",
    "5. New Revenue Streams: APIs can enable companies to create new revenue streams by providing third-party developers with access to their software systems.\n",
    "\n",
    "Disadvantages:\n",
    "\n",
    "1. Security Concerns: API infrastructures can be vulnerable to security breaches, such as SQL injection attacks and cross-site scripting (XSS) attacks, making it crucial to implement security measures to protect against these threats.\n",
    "2. Complexity: APIs can be complex, requiring a significant amount of development effort to implement and maintain.\n",
    "3. Compatibility Issues: APIs can have compatibility issues between different versions of the same software system or between different systems, which can lead to errors and system failures.\n",
    "4. Dependency on Third-Party Developers: APIs rely on third-party developers to create applications that integrate with the software system. This can create dependencies that are outside of the control of the company that owns the software system.\n",
    "5. Governance and Management: APIs require proper governance and management to ensure they are being used correctly and consistently across different applications and systems."
   ]
  },
  {
   "cell_type": "markdown",
   "id": "63f3bfc8-c56f-416b-bc70-8facd0c4dd67",
   "metadata": {},
   "source": [
    "Q3. What is a Web API? Differentiate between API and Web API."
   ]
  },
  {
   "cell_type": "markdown",
   "id": "a5047127-4124-4304-bcb2-5554ad113cd9",
   "metadata": {},
   "source": [
    " A Web API is an application programming interface for the Web.\n",
    " \n",
    "|no.|Web API|API|\n",
    "|:-:|:-:|:-:|\n",
    "|1| A Web API is an HTTP based service and returns JSON or XML data by default.| API ia a software intermediary that allows two applications to talk to each other.|\n",
    "|2 |It supports the HTTP protocol.|It provides a single point of contact for all your business needs|\n",
    "|3| It can be hosted within an application or IIS.|It provides support for the HTTP/s protocol: URL Request/Response Headers, etc.|\n",
    "|4| It is open source and it can be used by any client that understands JSON or XML.|It helps you to reduce development and maintenance costs by providing an interface between different applications built by different vendors or organizations.|\n",
    "|5| It has light-weight architecture and good for devices which have limited bandwidth, like mobile devices.|API has a light-weight architecture|"
   ]
  },
  {
   "cell_type": "markdown",
   "id": "8b489de9-8ac2-47e8-b0df-1aa8a022193f",
   "metadata": {},
   "source": [
    "Q4. Explain REST and SOAP Architecture. Mention shortcomings of SOAP."
   ]
  },
  {
   "cell_type": "markdown",
   "id": "8b51f98f-3b32-4f91-8567-d5c304d76b22",
   "metadata": {},
   "source": [
    "SOAP (Simple Object Access Protocol) is a standards-based web services access protocol that has been around for a long time. Originally developed by Microsoft, SOAP isn’t as simple as the acronym would suggest. \n",
    "\n",
    "Simple Object Access Protocol(SOAP) is a network protocol for exchanging structured data between nodes. It uses XML format to transfer messages. It works on top of application layer protocols like HTML and SMTP for notations and transmission. SOAP allows processes to communicate throughout platforms, languages and operating systems, since protocols like HTTP are already installed on all platforms.\n",
    "SOAP was designed by Bob Atkinson, Don Box, Dave Winer, and Mohsen Al-Ghosein at Microsoft in 1998. SOAP was maintained by the XML Protocol Working Group of the World Wide Web Consortium until 2009.\n",
    "\n",
    "REST (Representational State Transfer) is another standard, made in response to SOAP’s shortcomings. It seeks to fix the problems with SOAP and provide a simpler method of accessing web services.\n",
    "\n",
    "REST stands for REpresentational State Transfer and API stands for Application Program Interface. REST is a software architectural style that defines the set of rules to be used for creating web services. Web services which follow the REST architectural style are known as RESTful web services. It allows requesting systems to access and manipulate web resources by using a uniform and predefined set of rules. Interaction in REST based systems happen through Internet’s Hypertext Transfer Protocol (HTTP). \n",
    "\n",
    "A Restful system consists of a:\n",
    "\n",
    "client who requests for the resources.\n",
    "\n",
    "server who has the resources.\n",
    "\n",
    "It is important to create REST API according to industry standards which results in ease of development and increase client adoption.\n",
    "\n",
    "\n",
    "\n",
    "Disadvantages of SOAP:-\n",
    "1. Highly complex:- In comparison to Rest, SOAP is significantly more complex. It's also less flexible. This might present a challenge for developers that are not highly skilled. The extensive processing required may also slow down performance.\n",
    "2. No variety of data formats:- SOAP is also extremely limited in its support of data formats. The formats supported by REST include HTML, JSON, YAML, XML and others. Meanwhile, SOAP only supports XML.\n",
    "3. API calls are not cached:- The process where a request is sent after an API is set up with the correct endpoints is referred to as an API call. The process results in the information being transferred, processed and feedback being provided. It's not possible for SOAP API calls to be cached.\n",
    "4. Uses more bandwidth:- SOAP is generally slower in comparison to Rest and it also uses more bandwidth given its very complex nature. It’s another limiting factor in the efficacy of this technology for certain projects."
   ]
  },
  {
   "cell_type": "markdown",
   "id": "bdc3f7c2-37ce-4d58-bc66-f3cbedb8ca64",
   "metadata": {},
   "source": [
    "Q5. Differentiate between REST and SOAP."
   ]
  },
  {
   "cell_type": "markdown",
   "id": "e35e3027-4799-418b-91f3-caf57f2fe062",
   "metadata": {},
   "source": [
    "|SOAP API|REST API|\n",
    "|:-:|:-:|\n",
    "|Relies on SOAP (Simple Object Access Protocol)\tRelies on REST |(Representational State Transfer) architecture using HTTP.|\n",
    "|Transports data in standard XML format.|\tGenerally transports data in JSON.| |It is based on URI. |Because REST follows stateless model, REST does not enforces message format as XML or JSON etc.|\n",
    "|Because it is XML based and relies on SOAP, it works with WSDL|\tIt works with GET, POST, PUT, DELETE|\n",
    "|Works over HTTP, HTTPS, SMTP, XMPP\t|Works over HTTP and HTTPS|\n",
    "|Highly structured/typed\t|Less structured -> less bulky data|\n",
    "|Designed with large enterprise applications in mind|\tDesigned with mobile devices in mind|"
   ]
  },
  {
   "cell_type": "code",
   "execution_count": null,
   "id": "1a7c0da5-3a48-44a4-a863-29c12fb55542",
   "metadata": {},
   "outputs": [],
   "source": []
  }
 ],
 "metadata": {
  "kernelspec": {
   "display_name": "Python 3 (ipykernel)",
   "language": "python",
   "name": "python3"
  },
  "language_info": {
   "codemirror_mode": {
    "name": "ipython",
    "version": 3
   },
   "file_extension": ".py",
   "mimetype": "text/x-python",
   "name": "python",
   "nbconvert_exporter": "python",
   "pygments_lexer": "ipython3",
   "version": "3.11.1"
  }
 },
 "nbformat": 4,
 "nbformat_minor": 5
}
