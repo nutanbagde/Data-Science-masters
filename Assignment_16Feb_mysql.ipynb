{
 "cells": [
  {
   "cell_type": "markdown",
   "id": "afd0f388-3351-4c00-981f-f129e0386620",
   "metadata": {},
   "source": [
    "Q1. What is a database? Differentiate between SQL and NoSQL databases.\n"
   ]
  },
  {
   "cell_type": "markdown",
   "id": "7bb89d28-1963-4759-8b41-2b8e07f61a84",
   "metadata": {},
   "source": [
    "A database is an organized collection of structured information, or data, typically stored electronically in a computer system. A database is usually controlled by a database management system (DBMS)."
   ]
  },
  {
   "cell_type": "markdown",
   "id": "58c964a1-31b4-4e12-9154-82e8750c5ccc",
   "metadata": {
    "tags": []
   },
   "source": [
    "The table below summarizes the main differences between SQL and NoSQL databases.\n",
    "\n",
    "|points | SQL Databases | NoSQL Databases|\n",
    "|:-:|:-:|:-:|\n",
    "|Data Storage Model|Tables with fixed rows and columns|Document: JSON documents, Key-value: key-value pairs, Wide-column: tables with rows and dynamic columns, Graph: nodes and edges|\n",
    "|Development History|Developed in the 1970s with a focus on reducing data duplication|Developed in the late 2000s with a focus on scaling and allowing for rapid application change driven by agile and DevOps practices.|\n",
    "|Examples|Oracle, MySQL, Microsoft SQL Server, and PostgreSQL|Document: MongoDB and CouchDB, Key-value: Redis and DynamoDB, Wide-column: Cassandra and HBase, Graph: Neo4j and Amazon Neptune|\n",
    "|Primary Purpose|General purpose|Document: general purpose, Key-value: large amounts of data with simple lookup queries, Wide-column: large amounts of data with predictable query patterns, Graph: analyzing and traversing relationships between connected data|\n",
    "|Schemas|Rigid|Flexible|\n",
    "|Scaling|Vertical (scale-up with a larger server)|Horizontal (scale-out across commodity servers)|\n",
    "|Multi-Record ACID Transactions|Supported|Most do not support multi-record ACID transactions. However, some — like MongoDB — do.|\n",
    "|Joins|Typically required|Typically not required|\n",
    "|Data to Object Mapping|Requires ORM (object-relational mapping)|Many do not require ORMs. MongoDB documents map directly to data structures in most popular programming languages.|\n",
    "\n",
    "\n",
    "\n"
   ]
  },
  {
   "cell_type": "markdown",
   "id": "844cb84a-032d-4e8d-a002-9f5619c8719a",
   "metadata": {},
   "source": [
    "|Index\t|SQL\t|NoSQL|\n",
    "|:-:|:-:|:-:|\n",
    "|1)|\tSQL Databases are categorized as Relational Database Management System (RDBMS).\t|NoSQL databases are categorized as Non-relational or distributed database system.|\n",
    "|2)|\tSQL databases have fixed or static or predefined schema.\t|NoSQL databases have dynamic schema.|\n",
    "|3)|\tSQL databases display data in form of tables so it is known as table-based database.|\tNoSQL databases display data as collection of key-value pair, documents, graph databases or wide-column stores.|\n",
    "|4)\t|SQL databases are vertically scalable.\t|NoSQL databases are horizontally scalable.|\n",
    "|5)\t|SQL databases use a powerful language \"Structured Query Language\" to define and manipulate the data.|\tIn NoSQL databases, collection of documents are used to query the data.| It is also called unstructured query language. It varies from database to database.|\n",
    "|6)\t|SQL databases are best suited for complex queries.\t|NoSQL databases are not so good for complex queries because these are not as powerful as SQL queries.|\n",
    "|7)\t|SQL databases are not best suited for hierarchical data storage.\t|NoSQL databases are best suited for hierarchical data storage.|\n",
    "|8)\t|MySQL, Oracle, Sqlite, PostgreSQL and MS-SQL etc. are the example of SQL database.\t|MongoDB, BigTable, Redis, RavenDB, Cassandra, Hbase, Neo4j, CouchDB etc. are the example of nosql database|"
   ]
  },
  {
   "cell_type": "markdown",
   "id": "eed85b6a-4394-445c-959c-620cf52175e6",
   "metadata": {},
   "source": [
    "Q2. What is DDL? Explain why CREATE, DROP, ALTER, and TRUNCATE are used with an example.\n"
   ]
  },
  {
   "cell_type": "markdown",
   "id": "3fb68e25-3e6f-4389-98f7-f0d9bb01b73d",
   "metadata": {},
   "source": [
    "Data Definition Language(DDL) is a subset of SQL and a part of DBMS(Database Management System). DDL consist of Commands to commands like CREATE, ALTER, TRUNCATE and DROP. These commands are used to create or modify the tables in SQL."
   ]
  },
  {
   "cell_type": "markdown",
   "id": "a60598bc-2723-4bad-b4f0-58f7383d9adf",
   "metadata": {},
   "source": [
    "CREATE :\n",
    "\n",
    "This command is used to create a new table in SQL. The user has to give information like table name, column names, and their datatypes.\n",
    "\n",
    "\n",
    "Syntax –\n",
    "\n",
    "\n",
    "CREATE TABLE table_name\n",
    "(\n",
    "column_1 datatype,\n",
    "column_2 datatype,\n",
    "column_3 datatype,\n",
    "....\n",
    ");"
   ]
  },
  {
   "cell_type": "code",
   "execution_count": 10,
   "id": "d4818003-2abf-4a4b-a3ce-680978a42994",
   "metadata": {
    "tags": []
   },
   "outputs": [
    {
     "name": "stdout",
     "output_type": "stream",
     "text": [
      "<mysql.connector.connection_cext.CMySQLConnection object at 0x000001F44C461250>\n"
     ]
    }
   ],
   "source": [
    "import mysql.connector\n",
    "mydb = mysql.connector.connect(  \n",
    "   host=\"localhost\",\n",
    "   user=\"root\",\n",
    "   passwd=\"Gargi@5820\"\n",
    ")\n",
    "print(mydb)"
   ]
  },
  {
   "cell_type": "code",
   "execution_count": 11,
   "id": "afc51b21-a6e5-4554-b833-be422e9d1154",
   "metadata": {},
   "outputs": [
    {
     "name": "stdout",
     "output_type": "stream",
     "text": [
      "('information_schema',)\n",
      "('my_table',)\n",
      "('mysql',)\n",
      "('new_schema',)\n",
      "('performance_schema',)\n",
      "('student_info',)\n",
      "('sys',)\n",
      "('sys_1',)\n"
     ]
    }
   ],
   "source": [
    "mycursor = mydb.cursor() \n",
    "mycursor.execute(\"CREATE DATABASE if not exists Student_info\")\n",
    "mycursor.execute(\"SHOW DATABASES\") \n",
    "for x in mycursor:\n",
    "    print(x)\n",
    "mycursor.execute('CREATE TABLE if not exists Student_info.new_table(College_Id varchar(30) , College_name varchar(30), Branch varchar(10))')\n",
    "mycursor.execute(\"insert into Student_info.new_table values('2', 'SNDT', 'banglore')\")   \n"
   ]
  },
  {
   "cell_type": "code",
   "execution_count": 12,
   "id": "5c7f6c01-4dec-49a7-8e86-0332fe8dcff3",
   "metadata": {
    "tags": []
   },
   "outputs": [
    {
     "name": "stdout",
     "output_type": "stream",
     "text": [
      "('2', 'SNDT', 'banglore')\n"
     ]
    }
   ],
   "source": [
    "mycursor.execute(\"SELECT * FROM Student_info.new_table\")\n",
    "for i in mycursor.fetchall():\n",
    "    print(i)"
   ]
  },
  {
   "cell_type": "markdown",
   "id": "08cb8f6b-4fa3-4d51-a250-f38cd5846516",
   "metadata": {},
   "source": [
    "ALTER :\n",
    "    \n",
    "This command is used to add, delete or change columns in the existing table. The user needs to know the existing table name and can do add, delete or modify tasks easily.\n",
    "\n",
    "Syntax –\n",
    "Syntax to add a column to an existing table.\n",
    "\n",
    "ALTER TABLE table_name\n",
    "ADD column_name datatype;"
   ]
  },
  {
   "cell_type": "code",
   "execution_count": 13,
   "id": "ea127c64-001f-4065-a847-4515320cfa79",
   "metadata": {
    "tags": []
   },
   "outputs": [],
   "source": [
    "mycursor.execute('ALTER TABLE Student_info.new_table ADD COLUMN CGPA_number4 INT')"
   ]
  },
  {
   "cell_type": "code",
   "execution_count": 14,
   "id": "ef92e656-83ee-4d3f-8441-6476066c7333",
   "metadata": {
    "tags": []
   },
   "outputs": [
    {
     "name": "stdout",
     "output_type": "stream",
     "text": [
      "('2', 'SNDT', 'banglore', None)\n",
      "('2', 'SNDT', 'banglore', 10)\n"
     ]
    }
   ],
   "source": [
    "mycursor.execute(\"insert into Student_info.new_table values('2', 'SNDT', 'banglore','10')\")\n",
    "mycursor.execute(\"SELECT * FROM Student_info.new_table\")\n",
    "for i in mycursor.fetchall():\n",
    "    print(i)"
   ]
  },
  {
   "cell_type": "markdown",
   "id": "5d6cb772-7754-4002-8af9-6b83878614d7",
   "metadata": {},
   "source": [
    "DROP:\n",
    "     A DROP statement in SQL removes a component from a relational database management system (RDBMS).\n",
    "\n",
    "Syntax:\n",
    "\n",
    "DROP TABLE table_name;\n",
    "or\n",
    "DROP DATABASE database_name;"
   ]
  },
  {
   "cell_type": "code",
   "execution_count": 15,
   "id": "7e01c79a-dc4f-4f0a-9162-ee52d9190628",
   "metadata": {},
   "outputs": [],
   "source": [
    "mycursor.execute(\"DROP TABLE Student_info.new_table\")"
   ]
  },
  {
   "cell_type": "code",
   "execution_count": 16,
   "id": "bd289b93-a78e-4d0b-9aee-dc60c9058e31",
   "metadata": {},
   "outputs": [
    {
     "name": "stdout",
     "output_type": "stream",
     "text": [
      "('information_schema',)\n",
      "('my_table',)\n",
      "('mysql',)\n",
      "('new_schema',)\n",
      "('performance_schema',)\n",
      "('student_info',)\n",
      "('sys',)\n",
      "('sys_1',)\n"
     ]
    }
   ],
   "source": [
    "mycursor.execute(\"SHOW DATABASES\") \n",
    "for x in mycursor:\n",
    "    print(x)"
   ]
  },
  {
   "cell_type": "markdown",
   "id": "22dbb33f-5d48-4921-8db0-fe3c6829a5d8",
   "metadata": {},
   "source": [
    "TRUNCATE TABLE:\n",
    "    \n",
    "The TRUNCATE TABLE command deletes the data inside a table, but not the table itself.\n",
    "\n",
    "Syntax:\n",
    "\n",
    "TRUNCATE TABLE  table_name;"
   ]
  },
  {
   "cell_type": "code",
   "execution_count": 17,
   "id": "dbd39612-6225-4d55-8794-a9644ce7fe94",
   "metadata": {
    "tags": []
   },
   "outputs": [],
   "source": [
    "mycursor.execute('CREATE TABLE if not exists Student_info.new_table(College_Id varchar(30) , College_name varchar(30), Branch varchar(10))')\n",
    "mycursor.execute(\"insert into Student_info.new_table values('2', 'SNDT', 'banglore')\")   \n"
   ]
  },
  {
   "cell_type": "code",
   "execution_count": 18,
   "id": "df491c25-6b28-4ede-94b6-263abb14341a",
   "metadata": {
    "tags": []
   },
   "outputs": [
    {
     "name": "stdout",
     "output_type": "stream",
     "text": [
      "('2', 'SNDT', 'banglore')\n"
     ]
    }
   ],
   "source": [
    "mycursor.execute(\"SELECT * FROM Student_info.new_table\")\n",
    "for i in mycursor.fetchall():\n",
    "    print(i)"
   ]
  },
  {
   "cell_type": "code",
   "execution_count": 19,
   "id": "36ad25fe-fba0-48eb-bfa3-e98a4b6cad10",
   "metadata": {
    "tags": []
   },
   "outputs": [],
   "source": [
    "mycursor.execute(\"TRUNCATE TABLE Student_info.new_table\")\n",
    "for i in mycursor.fetchall():\n",
    "    print(i)"
   ]
  },
  {
   "cell_type": "markdown",
   "id": "118cd01c-288d-40d6-81ae-5363c05bffd6",
   "metadata": {},
   "source": [
    "Q3. What is DML? Explain INSERT, UPDATE, and DELETE with an example.\n"
   ]
  },
  {
   "cell_type": "markdown",
   "id": "1d80b834-cf5e-46a7-ba0e-6e364c7820d3",
   "metadata": {},
   "source": [
    "DML is an abbreviation for Data Manipulation Language. Represents a collection of programming languages explicitly used to make changes to the database, such as: CRUD operations to create, read, update and delete data. Using INSERT, SELECT, UPDATE, and DELETE commands."
   ]
  },
  {
   "cell_type": "markdown",
   "id": "32ca8654-f01e-44dd-b252-dcabf0ce40bb",
   "metadata": {},
   "source": [
    "INSERT − Insert data into a table.\n",
    "\n",
    "UPDATE − Update existing data within a table.\n",
    "\n",
    "DELETE − Delete records from a database table"
   ]
  },
  {
   "cell_type": "code",
   "execution_count": 20,
   "id": "65f7cf4f-94e5-44b3-b0ea-f85bf8c62b7f",
   "metadata": {
    "tags": []
   },
   "outputs": [
    {
     "name": "stdout",
     "output_type": "stream",
     "text": [
      "<mysql.connector.connection_cext.CMySQLConnection object at 0x000001F44C43ECD0>\n"
     ]
    }
   ],
   "source": [
    "import mysql.connector\n",
    "mydb = mysql.connector.connect(  \n",
    "   host=\"localhost\",\n",
    "   user=\"root\",\n",
    "   passwd=\"Gargi@5820\"\n",
    ")\n",
    "print(mydb)"
   ]
  },
  {
   "cell_type": "code",
   "execution_count": 21,
   "id": "6159f759-4d51-45cf-b130-a1e83a068c00",
   "metadata": {
    "tags": []
   },
   "outputs": [
    {
     "name": "stdout",
     "output_type": "stream",
     "text": [
      "('information_schema',)\n",
      "('my_table',)\n",
      "('mysql',)\n",
      "('new_schema',)\n",
      "('performance_schema',)\n",
      "('student_info',)\n",
      "('sys',)\n",
      "('sys_1',)\n",
      "('2', 'SNDT', 'banglore')\n"
     ]
    }
   ],
   "source": [
    "mycursor = mydb.cursor() \n",
    "mycursor.execute(\"CREATE DATABASE if not exists Student_info\")\n",
    "mycursor.execute(\"SHOW DATABASES\") \n",
    "for x in mycursor:\n",
    "    print(x)\n",
    "mycursor.execute('CREATE TABLE if not exists Student_info.new_table2(College_Id varchar(30) , College_name varchar(30), Branch varchar(10))')\n",
    "mycursor.execute(\"insert into Student_info.new_table2 values('2', 'SNDT', 'banglore')\")   \n",
    "mycursor.execute(\"SELECT * FROM Student_info.new_table2\")\n",
    "for i in mycursor.fetchall():\n",
    "    print(i)"
   ]
  },
  {
   "cell_type": "markdown",
   "id": "5d6c528e-414d-4315-8c49-d363847132e6",
   "metadata": {
    "tags": []
   },
   "source": [
    "mycursor.execute(\"UPDATE Student_info.new_table2 SET College_Id = 3 WHERE College_name =SNDT \")\n",
    "\n",
    "for i in mycursor.fetchall():\n",
    "    \n",
    "    print(i)"
   ]
  },
  {
   "cell_type": "code",
   "execution_count": 26,
   "id": "e51ff7fa-28a5-4b98-a3e3-4acdf685d8cd",
   "metadata": {
    "tags": []
   },
   "outputs": [],
   "source": [
    "mycursor.execute(\"DELETE FROM Student_info.new_table2 WHERE College_Id = 2\")"
   ]
  },
  {
   "cell_type": "markdown",
   "id": "0cef8c9a-31be-4492-85fd-6025b025eff4",
   "metadata": {},
   "source": [
    "Q4. What is DQL? Explain SELECT with an example.\n"
   ]
  },
  {
   "cell_type": "markdown",
   "id": "905dd7b7-19a6-45e6-af1c-4c342978bb67",
   "metadata": {},
   "source": [
    "DQL statements are used for performing queries on the data within schema objects. The purpose of the DQL Command is to get some schema relation based on the query passed to it. We can define DQL as follows it is a component of SQL statement that allows getting data from the database and imposing order upon it. It includes the SELECT statement. This command allows getting the data out of the database to perform operations with it. When a SELECT is fired against a table or tables the result is compiled into a further temporary table, which is displayed or perhaps received by the program i.e. a front-end.\n",
    "\n",
    "SELECT Statement in SQL\n",
    "To fetch the entire table or all the fields in the table:\n",
    "\n",
    "Syntax:\n",
    "\n",
    " SELECT * FROM table_name; \n",
    "\n",
    " — asterisks represent all attributes of the table"
   ]
  },
  {
   "cell_type": "code",
   "execution_count": 34,
   "id": "87f80174-6940-4ccc-9978-64d89ca2e37e",
   "metadata": {
    "tags": []
   },
   "outputs": [
    {
     "name": "stdout",
     "output_type": "stream",
     "text": [
      "('information_schema',)\n",
      "('my_table',)\n",
      "('mysql',)\n",
      "('new_schema',)\n",
      "('performance_schema',)\n",
      "('student_info',)\n",
      "('sys',)\n",
      "('sys_1',)\n",
      "\n",
      "\n",
      "('1', 'Shubham', 'Thakur')\n",
      "('2', 'Aman ', 'Chopra')\n",
      "('3', 'Naveen', 'Tulasi')\n",
      "('4', 'Aditya', 'Arpan')\n",
      "('5', 'Nishant. Salchichas S.A.', 'Jain')\n",
      "('1', 'Shubham', 'Thakur')\n",
      "('2', 'Aman ', 'Chopra')\n",
      "('3', 'Naveen', 'Tulasi')\n",
      "('4', 'Aditya', 'Arpan')\n",
      "('5', 'Nishant. Salchichas S.A.', 'Jain')\n"
     ]
    }
   ],
   "source": [
    "mycursor = mydb.cursor() \n",
    "mycursor.execute(\"CREATE DATABASE if not exists Student_info\")\n",
    "mycursor.execute(\"SHOW DATABASES\") \n",
    "for x in mycursor:\n",
    "    print(x)\n",
    "mycursor.execute('CREATE TABLE if not exists Student_info.new_table2(CustomerID INT PRIMARY KEY, CustomerName VARCHAR(50), LastName VARCHAR(50))')\n",
    "mycursor.execute(\"insert into Student_info.new_table2 values(1, 'Shubham', 'Thakur')\")\n",
    "mycursor.execute(\"insert into Student_info.new_table2 values(2, 'Aman ', 'Chopra' )\") \n",
    "mycursor.execute(\"insert into Student_info.new_table2 values(3, 'Naveen', 'Tulasi')\") \n",
    "mycursor.execute(\"insert into Student_info.new_table2 values(4, 'Aditya', 'Arpan')\") \n",
    "mycursor.execute(\"insert into Student_info.new_table2 values(5, 'Nishant. Salchichas S.A.', 'Jain')\")\n",
    "\n",
    "mycursor.execute(\"SELECT * FROM Student_info.new_table2\")\n",
    "print('\\n')\n",
    "for i in mycursor.fetchall():\n",
    "    print(i)"
   ]
  },
  {
   "cell_type": "markdown",
   "id": "22c3884d-8710-477c-84ce-4aa82ce578db",
   "metadata": {},
   "source": [
    "Q5. Explain Primary Key and Foreign Key.\n"
   ]
  },
  {
   "cell_type": "markdown",
   "id": "bb8f7370-37c8-40ac-989a-73e3d54f5dac",
   "metadata": {},
   "source": [
    "Let’s see the difference between Primary Key and Foreign Key:\n",
    "\n",
    "|S.NO.\t|PRIMARY KEY|\tFOREIGN KEY|\n",
    "|:-:|:-:|:-:|\n",
    "|1|\tA primary key is used to ensure data in the specific column is unique.\t|A foreign key is a column or group of columns in a relational database table that provides a link between data in two tables.|\n",
    "|2|\tIt uniquely identifies a record in the relational database table.\t|It refers to the field in a table which is the primary key of another table.|\n",
    "|3|\tOnly one primary key is allowed in a table.\t|Whereas more than one foreign key are allowed in a table.|\n",
    "|4|\tIt is a combination of UNIQUE and Not Null constraints.\t|It can contain duplicate values and a table in a relational database.|\n",
    "|5|\tIt does not allow NULL values.|\tIt can also contain NULL values.|\n",
    "|6|\tIts value cannot be deleted from the parent table.|\tIts value can be deleted from the child table.|\n",
    "|7|\tIt constraint can be implicitly defined on the temporary tables.|\tIt constraint cannot be defined on the local or global temporary tables.|"
   ]
  },
  {
   "cell_type": "markdown",
   "id": "0660f04c-4903-4922-a393-beeb8adefc2e",
   "metadata": {},
   "source": [
    "Q6. Write a python code to connect MySQL to python. Explain the cursor() and execute() method.\n"
   ]
  },
  {
   "cell_type": "code",
   "execution_count": 39,
   "id": "39f31467-ff9d-49c5-9aa6-5e7c74012191",
   "metadata": {},
   "outputs": [
    {
     "name": "stdout",
     "output_type": "stream",
     "text": [
      "<mysql.connector.connection_cext.CMySQLConnection object at 0x000001F44C693210>\n"
     ]
    }
   ],
   "source": [
    "import mysql.connector\n",
    "mydb = mysql.connector.connect(  \n",
    "   host=\"localhost\",\n",
    "   user=\"root\",\n",
    "   passwd=\"Gargi@5820\"\n",
    ")\n",
    "print(mydb)"
   ]
  },
  {
   "cell_type": "markdown",
   "id": "97bb5346-9880-41b9-ae37-3f8c367bb759",
   "metadata": {},
   "source": [
    "The MySQLCursor of mysql-connector-python (and similar libraries) is used to execute statements to communicate with the MySQL database. Using the methods of it you can execute SQL statements, fetch data from the result sets, call procedures. You can create Cursor object using the cursor() method of the Connection object/class.\n",
    "\n",
    "execute()\n",
    "\n",
    "This method accepts a MySQL query as a parameter and executes the given query.\n",
    "\n"
   ]
  },
  {
   "cell_type": "code",
   "execution_count": 40,
   "id": "748b27d9-9efa-42ea-a3b3-e68736a264a2",
   "metadata": {
    "tags": []
   },
   "outputs": [
    {
     "name": "stdout",
     "output_type": "stream",
     "text": [
      "('employee',)\n",
      "('information_schema',)\n",
      "('my_table',)\n",
      "('mysql',)\n",
      "('new_schema',)\n",
      "('performance_schema',)\n",
      "('student_info',)\n",
      "('sys',)\n",
      "('sys_1',)\n"
     ]
    }
   ],
   "source": [
    "mycursor = mydb.cursor() \n",
    "mycursor.execute(\"CREATE DATABASE if not exists Employee\")\n",
    "mycursor.execute(\"SHOW DATABASES\") \n",
    "for x in mycursor:\n",
    "    print(x)"
   ]
  },
  {
   "cell_type": "markdown",
   "id": "12a5861e-f51f-43ff-a80a-7b859068e4a7",
   "metadata": {},
   "source": [
    "Q7. Give the order of execution of SQL clauses in an SQL query."
   ]
  },
  {
   "cell_type": "markdown",
   "id": "6459f52f-beb3-4d4f-bce3-67c00f5756cd",
   "metadata": {},
   "source": [
    "SQL query execution order means optimizing our search results from the database or where the query clauses are evaluated according to the requirements.\n",
    "Like how we plan something step by step and reach the final result, similarly, we use clauses in a particular order known as the SQL query execution order. Here is the table that shows the order in which the clauses are used.\n",
    "\n",
    "|Order|\tClause|\tFunction|\n",
    "|:-:|:-:|:-:|\n",
    "|1|\tFROM|\tTables are joined to get the base data.|\n",
    "|2\t|WHERE\t|The base data is filtered.|\n",
    "|3\t|GROUP BY\t|The filtered base data is grouped.|\n",
    "|4\t|HAVING\t|The grouped base data is filtered.|\n",
    "|5\t|SELECT\t|The final data is returned.|\n",
    "|6\t|ORDER BY\t|The final data is sorted.|\n",
    "|7\t|LIMIT|\tThe returned data is limited to row count.|"
   ]
  },
  {
   "cell_type": "code",
   "execution_count": null,
   "id": "aff96a8d-8cb9-4ac0-aa36-14cfdb209431",
   "metadata": {},
   "outputs": [],
   "source": []
  },
  {
   "cell_type": "code",
   "execution_count": null,
   "id": "6d397b45-3cc5-42f7-b27b-7d3770bbfc22",
   "metadata": {},
   "outputs": [],
   "source": []
  }
 ],
 "metadata": {
  "kernelspec": {
   "display_name": "Python 3 (ipykernel)",
   "language": "python",
   "name": "python3"
  },
  "language_info": {
   "codemirror_mode": {
    "name": "ipython",
    "version": 3
   },
   "file_extension": ".py",
   "mimetype": "text/x-python",
   "name": "python",
   "nbconvert_exporter": "python",
   "pygments_lexer": "ipython3",
   "version": "3.11.1"
  }
 },
 "nbformat": 4,
 "nbformat_minor": 5
}
