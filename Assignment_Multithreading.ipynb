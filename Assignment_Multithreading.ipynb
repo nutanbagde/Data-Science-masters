{
 "cells": [
  {
   "cell_type": "markdown",
   "id": "895609fc-10e9-456f-9df4-476384cc6c75",
   "metadata": {},
   "source": [
    "1. what is multithreading in python? Why is it used? Name the module used to handle threads in python\n"
   ]
  },
  {
   "cell_type": "markdown",
   "id": "f282b8b5-469c-4ccc-b589-f1df5866ca00",
   "metadata": {},
   "source": [
    "Multithreading refers to concurrently executing multiple threads by rapidly switching the control of the CPU between threads (called context switching). The Python Global Interpreter Lock limits one thread to run at a time even if the machine contains multiple processors.\n",
    "\n",
    "Multithreading is a way of achieving multitasking. In multithreading, the concept of threads is used. \n",
    "\n",
    "Create a new thread by importing the threading module.\n",
    "A threading module used to handle threads in python.\n"
   ]
  },
  {
   "cell_type": "markdown",
   "id": "bdcf6873-02bd-45c5-bad7-ccd6754caef2",
   "metadata": {},
   "source": [
    "2. Why threading module used? write the use of the following functions\n",
    "    1. activeCount()\n",
    "    2. currentThread()\n",
    "    3. enumerate ()\n"
   ]
  },
  {
   "cell_type": "markdown",
   "id": "48e64eb8-bdc2-45b3-8d60-e01ed356387a",
   "metadata": {},
   "source": [
    "Multitasking is a computer's ability to execute two or more concurrent programs. Multithreading makes multitasking possible when it breaks programs into smaller, executable threads. Each thread has the programming elements needed to execute the main program, and the computer executes each thread one at a time.\n",
    "\n",
    "The threading module exposes all the methods of the thread module and provides some additional methods −\n",
    "\n",
    "|Methods|\tDescription|\n",
    "|:-:|:-:|\n",
    "|threading.activeCount() | Returns the number of thread objects that are active.|\n",
    "|threading.currentThread() | Returns the number of thread objects in the caller's thread control.|\n",
    "|threading.enumerate() | Returns a list of all thread objects that are currently active.|"
   ]
  },
  {
   "cell_type": "markdown",
   "id": "72de87b8-234e-40a6-b7fd-d6411055c8f8",
   "metadata": {},
   "source": [
    "3. Explain the following functions\n",
    "    1. run()\n",
    "    2. start()\n",
    "    3. join()\n",
    "    4. isAlive()\n"
   ]
  },
  {
   "cell_type": "markdown",
   "id": "a617bbb0-6d22-4ad6-b182-c95201654b54",
   "metadata": {},
   "source": [
    "In addition to the methods, the threading module has the Thread class that implements threading. The methods provided by the Thread class are as follows −\n",
    "\n",
    "|Methods|\tDescription|\n",
    "|:-:|:-:|\n",
    "|start()|\tA start() method is used to initiate the activity of a thread. And it calls only once for each thread so that the execution of the thread can begin.|\n",
    "|run()|\tA run() method is used to define a thread's activity and can be overridden by a class that extends the threads class.|\n",
    "|join()|\tA join() method is used to block the execution of another code until the thread terminates.|\n",
    "|isAlive() |The isAlive() method checks whether a thread is still executing.|"
   ]
  },
  {
   "cell_type": "markdown",
   "id": "8145f454-fbe3-4aa1-8868-f2ce9f10ffc3",
   "metadata": {},
   "source": [
    "4. Write a python program to create two threads. Thread one must print the list of squares and thread two must print the list of cubes\n"
   ]
  },
  {
   "cell_type": "code",
   "execution_count": 15,
   "id": "95b647f8-a71b-4df6-b4b0-175ce1d83c21",
   "metadata": {
    "tags": []
   },
   "outputs": [
    {
     "name": "stdout",
     "output_type": "stream",
     "text": [
      "list of squares up to the no. 1 is =  [1]\n",
      "list of squares up to the no. 2 is =  [1, 4]\n",
      "list of squares up to the no. 3 is =  [1, 4, 9]\n",
      "list of squares up to the no. 4 is =  [1, 4, 9, 16]\n",
      "list of squares up to the no. 5 is =  [1, 4, 9, 16, 25]\n",
      "list of squares up to the no. 6 is =  [1, 4, 9, 16, 25, 36]\n",
      "list of squares up to the no. 7 is =  [1, 4, 9, 16, 25, 36, 49]\n",
      "list of squares up to the no. 8 is =  [1, 4, 9, 16, 25, 36, 49, 64]\n",
      "list of squares up to the no. 9 is =  [1, 4, 9, 16, 25, 36, 49, 64, 81]\n",
      "\n",
      "\n",
      "list of cubs up to the no. 1 is =  [1]\n",
      "list of cubs up to the no. 2 is =  [1, 8]\n",
      "list of cubs up to the no. 3 is =  [1, 8, 27]\n",
      "list of cubs up to the no. 4 is =  [1, 8, 27, 64]\n",
      "list of cubs up to the no. 5 is =  [1, 8, 27, 64, 125]\n",
      "list of cubs up to the no. 6 is =  [1, 8, 27, 64, 125, 216]\n",
      "list of cubs up to the no. 7 is =  [1, 8, 27, 64, 125, 216, 343]\n",
      "list of cubs up to the no. 8 is =  [1, 8, 27, 64, 125, 216, 343, 512]\n",
      "list of cubs up to the no. 9 is =  [1, 8, 27, 64, 125, 216, 343, 512, 729]\n"
     ]
    }
   ],
   "source": [
    "import threading\n",
    "square_list=[]\n",
    "cub_list=[]\n",
    "def square_1(x):\n",
    "    i=x**2\n",
    "    square_list.append(i)\n",
    "    print('list of squares up to the no. %d is = ' %(x), square_list)\n",
    "\n",
    "def cub_1(y):\n",
    "    i= y**3\n",
    "    cub_list.append(i)\n",
    "    print('list of cubs up to the no. %d is = ' %(y), cub_list)\n",
    "\n",
    "thread1=[threading.Thread(target=square_1, args=(i,)) for i in range(1,10)]\n",
    "\n",
    "thread2=[threading.Thread(target=cub_1, args=(i,)) for i in range(1,10)]\n",
    "for i in thread1:\n",
    "    i.start()\n",
    "    \n",
    "print('\\n')\n",
    "for i in thread2:\n",
    "    i.start()"
   ]
  },
  {
   "cell_type": "markdown",
   "id": "155a4ef8-9efe-418c-bb2d-3aa83d457cb1",
   "metadata": {},
   "source": [
    "5. State advantages and disadvantages of multithreading\n"
   ]
  },
  {
   "cell_type": "markdown",
   "id": "7efb21ab-ca58-4097-8e3c-6dff22013d47",
   "metadata": {},
   "source": [
    "Following are some of the common advantages of multithreading:\n",
    "\n",
    "1. Enhanced performance by decreased development time\n",
    "2. Simplified and streamlined program coding\n",
    "3. Improvised GUI responsiveness\n",
    "4. Simultaneous and parallelized occurrence of tasks\n",
    "5. Better use of cache storage by utilization of resources\n",
    "6. Decreased cost of maintenance\n",
    "7. Better use of CPU resource\n",
    "\n",
    "Multithreading does not only provide you with benefits, it has its disadvantages too. Let us go through some common disadvantages:\n",
    "\n",
    "1. Complex debugging and testing processes\n",
    "2. Overhead switching of context\n",
    "3. Increased potential for deadlock occurrence\n",
    "4. Increased difficulty level in writing a program\n",
    "5. Unpredictable results"
   ]
  },
  {
   "cell_type": "markdown",
   "id": "43d12d4e-54d2-46a6-9500-a6cc305c72d5",
   "metadata": {},
   "source": [
    "6. Explain deadlocks and race conditions."
   ]
  },
  {
   "cell_type": "markdown",
   "id": "80b7bfd0-a109-4a84-aa0b-c8be5f8e1ddc",
   "metadata": {},
   "source": [
    "1). Deadlocks:-\n",
    "\n",
    "A deadlock is a concurrency failure mode where a thread or threads wait for a condition that never occurs.\n",
    "\n",
    "The result is that the deadlock threads are unable to progress and the program is stuck or frozen and must be terminated forcefully.\n",
    "\n",
    "There are many ways in which you may encounter a deadlock in your concurrent program.\n",
    "\n",
    "Deadlocks are not developed intentionally, instead, they are an unexpected side effect or bug in concurrency programming.\n",
    "\n",
    "Common examples of the cause of threading deadlocks include:\n",
    "\n",
    "1. A thread that waits on itself (e.g. attempts to acquire the same mutex lock twice).\n",
    "2. Threads that wait on each other (e.g. A waits on B, B waits on A).\n",
    "3. Thread that fails to release a resource (e.g. mutex lock, semaphore, barrier, condition, event, etc.).\n",
    "4. Threads that acquire mutex locks in different orders (e.g. fail to perform lock ordering).\n",
    "5. Deadlocks may be easy to describe, but hard to detect in an application just from reading code.\n",
    "\n",
    "It is important to develop an intuition for the causes of different deadlocks. This will help you identify deadlocks in your own code and trace down the causes of those deadlocks that you may encounter."
   ]
  },
  {
   "cell_type": "markdown",
   "id": "c56e5666-3bf8-4a40-b2ec-ce6d547ded35",
   "metadata": {},
   "source": [
    "2 Race conditions:-\n",
    "\n",
    "A race condition occurs when two threads try to access a shared variable simultaneously.\n",
    "\n",
    "The first thread reads the value from the shared variable. The second thread also reads the value from the same shared variable.\n",
    "\n",
    "Then both threads try to change the value of the shared variable. And they race to see which thread writes a value to the variable last.\n",
    "\n",
    "The value from the thread that writes to the shared variable last is preserved because it overwrites the value that the previous thread wrote.\n",
    "\n",
    "\n",
    "1. A race condition occurs when two threads access a shared variable at the same time.\n",
    "2. Use a Lock object to prevent the race condition\n",
    "3. Call the acquire() method of a lock object to acquire a lock.\n",
    "4. Call the release() method of a lock object to release the previously acquired lock."
   ]
  },
  {
   "cell_type": "code",
   "execution_count": null,
   "id": "6dd7348f-e9cd-46cc-9f17-d8d1a575a4dd",
   "metadata": {},
   "outputs": [],
   "source": []
  }
 ],
 "metadata": {
  "kernelspec": {
   "display_name": "Python 3 (ipykernel)",
   "language": "python",
   "name": "python3"
  },
  "language_info": {
   "codemirror_mode": {
    "name": "ipython",
    "version": 3
   },
   "file_extension": ".py",
   "mimetype": "text/x-python",
   "name": "python",
   "nbconvert_exporter": "python",
   "pygments_lexer": "ipython3",
   "version": "3.11.1"
  }
 },
 "nbformat": 4,
 "nbformat_minor": 5
}
